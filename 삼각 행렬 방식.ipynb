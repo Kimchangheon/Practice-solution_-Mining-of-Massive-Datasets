{
 "cells": [
  {
   "cell_type": "code",
   "execution_count": 2,
   "metadata": {},
   "outputs": [],
   "source": [
    "import random\n",
    "baskets = []\n",
    "for n in range(10000) : \n",
    "    basket = []\n",
    "    for i in range(1,6) : \n",
    "        if(random.randint(1,10)<= int(10/i) ) : \n",
    "            basket.append(i)\n",
    "    baskets.append(basket)\n",
    "    "
   ]
  },
  {
   "cell_type": "code",
   "execution_count": 6,
   "metadata": {},
   "outputs": [],
   "source": [
    "dic={}\n",
    "from itertools import combinations\n",
    "a=[1,2,3,4,5]\n",
    "combi = combinations(a,2)\n",
    "\n",
    "for c in combi : \n",
    "    i = 0\n",
    "    for b in baskets : \n",
    "        if(c[0] in b and c[1] in b) :\n",
    "            i+=1\n",
    "    dic[str(c[0])+','+str(c[1])] = i\n"
   ]
  },
  {
   "cell_type": "code",
   "execution_count": 9,
   "metadata": {},
   "outputs": [
    {
     "name": "stdout",
     "output_type": "stream",
     "text": [
      "1,2\n",
      "1,3\n",
      "1,4\n",
      "1,5\n",
      "2,3\n",
      "2,4\n",
      "2,5\n"
     ]
    }
   ],
   "source": [
    "list2=[]\n",
    "for key, val in dic.items():\n",
    "    if(val>1000) :\n",
    "        list2.append(key)\n",
    "        print(key)"
   ]
  },
  {
   "cell_type": "code",
   "execution_count": 14,
   "metadata": {},
   "outputs": [
    {
     "data": {
      "text/plain": [
       "['1,2', '1,3', '1,4', '1,5', '2,3', '2,4', '2,5']"
      ]
     },
     "execution_count": 14,
     "metadata": {},
     "output_type": "execute_result"
    }
   ],
   "source": [
    "list2"
   ]
  },
  {
   "cell_type": "code",
   "execution_count": 15,
   "metadata": {},
   "outputs": [],
   "source": [
    "def get_k(pair) :\n",
    "    i = int(pair[0])\n",
    "    j = int(pair[2])\n",
    "    k = (i - 1) * (n - i/2) + j - i\n",
    "    return k"
   ]
  },
  {
   "cell_type": "code",
   "execution_count": 29,
   "metadata": {},
   "outputs": [
    {
     "name": "stdout",
     "output_type": "stream",
     "text": [
      "1,2\n",
      "1.0\n",
      "\n",
      "\n",
      "1,3\n",
      "2.0\n",
      "\n",
      "\n",
      "1,4\n",
      "3.0\n",
      "\n",
      "\n",
      "1,5\n",
      "4.0\n",
      "\n",
      "\n",
      "2,3\n",
      "5.0\n",
      "\n",
      "\n",
      "2,4\n",
      "6.0\n",
      "\n",
      "\n",
      "2,5\n",
      "7.0\n",
      "\n",
      "\n"
     ]
    }
   ],
   "source": [
    "n = 5\n",
    "for pair in list2 :\n",
    "    print(pair)\n",
    "    i = int(pair[0])\n",
    "    j = int(pair[2])\n",
    "    k = (i - 1) * (n - i/2) + j - i\n",
    "    print(k)\n",
    "    print(\"\\n\")"
   ]
  },
  {
   "cell_type": "code",
   "execution_count": null,
   "metadata": {},
   "outputs": [],
   "source": []
  }
 ],
 "metadata": {
  "kernelspec": {
   "display_name": "Python 3",
   "language": "python",
   "name": "python3"
  },
  "language_info": {
   "codemirror_mode": {
    "name": "ipython",
    "version": 3
   },
   "file_extension": ".py",
   "mimetype": "text/x-python",
   "name": "python",
   "nbconvert_exporter": "python",
   "pygments_lexer": "ipython3",
   "version": "3.7.4"
  }
 },
 "nbformat": 4,
 "nbformat_minor": 2
}
