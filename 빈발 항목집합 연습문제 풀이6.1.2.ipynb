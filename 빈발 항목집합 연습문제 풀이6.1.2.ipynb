{
 "cells": [
  {
   "cell_type": "code",
   "execution_count": 1,
   "metadata": {},
   "outputs": [],
   "source": [
    "baskets2 = list()"
   ]
  },
  {
   "cell_type": "code",
   "execution_count": 2,
   "metadata": {},
   "outputs": [],
   "source": [
    "for b in range(1,101) : \n",
    "    basket=list()\n",
    "    for i in range(1,101) :\n",
    "        if(i%b==0) : \n",
    "            basket.append(i)\n",
    "    baskets2.append(basket)"
   ]
  },
  {
   "cell_type": "code",
   "execution_count": 3,
   "metadata": {},
   "outputs": [
    {
     "name": "stdout",
     "output_type": "stream",
     "text": [
      "[1, 2, 3, 4, 5, 6, 7, 8, 9, 10, 11, 12, 13, 14, 15, 16, 17, 18, 19, 20, 21, 22, 23, 24, 25, 26, 27, 28, 29, 30, 31, 32, 33, 34, 35, 36, 37, 38, 39, 40, 41, 42, 43, 44, 45, 46, 47, 48, 49, 50, 51, 52, 53, 54, 55, 56, 57, 58, 59, 60, 61, 62, 63, 64, 65, 66, 67, 68, 69, 70, 71, 72, 73, 74, 75, 76, 77, 78, 79, 80, 81, 82, 83, 84, 85, 86, 87, 88, 89, 90, 91, 92, 93, 94, 95, 96, 97, 98, 99, 100]\n",
      "\n",
      "[2, 4, 6, 8, 10, 12, 14, 16, 18, 20, 22, 24, 26, 28, 30, 32, 34, 36, 38, 40, 42, 44, 46, 48, 50, 52, 54, 56, 58, 60, 62, 64, 66, 68, 70, 72, 74, 76, 78, 80, 82, 84, 86, 88, 90, 92, 94, 96, 98, 100]\n",
      "\n",
      "[3, 6, 9, 12, 15, 18, 21, 24, 27, 30, 33, 36, 39, 42, 45, 48, 51, 54, 57, 60, 63, 66, 69, 72, 75, 78, 81, 84, 87, 90, 93, 96, 99]\n",
      "\n",
      "[4, 8, 12, 16, 20, 24, 28, 32, 36, 40, 44, 48, 52, 56, 60, 64, 68, 72, 76, 80, 84, 88, 92, 96, 100]\n",
      "\n",
      "[5, 10, 15, 20, 25, 30, 35, 40, 45, 50, 55, 60, 65, 70, 75, 80, 85, 90, 95, 100]\n",
      "\n",
      "[6, 12, 18, 24, 30, 36, 42, 48, 54, 60, 66, 72, 78, 84, 90, 96]\n",
      "\n",
      "[7, 14, 21, 28, 35, 42, 49, 56, 63, 70, 77, 84, 91, 98]\n",
      "\n",
      "[8, 16, 24, 32, 40, 48, 56, 64, 72, 80, 88, 96]\n",
      "\n",
      "[9, 18, 27, 36, 45, 54, 63, 72, 81, 90, 99]\n",
      "\n",
      "[10, 20, 30, 40, 50, 60, 70, 80, 90, 100]\n",
      "\n",
      "[11, 22, 33, 44, 55, 66, 77, 88, 99]\n",
      "\n",
      "[12, 24, 36, 48, 60, 72, 84, 96]\n",
      "\n",
      "[13, 26, 39, 52, 65, 78, 91]\n",
      "\n",
      "[14, 28, 42, 56, 70, 84, 98]\n",
      "\n",
      "[15, 30, 45, 60, 75, 90]\n",
      "\n",
      "[16, 32, 48, 64, 80, 96]\n",
      "\n",
      "[17, 34, 51, 68, 85]\n",
      "\n",
      "[18, 36, 54, 72, 90]\n",
      "\n",
      "[19, 38, 57, 76, 95]\n",
      "\n",
      "[20, 40, 60, 80, 100]\n",
      "\n",
      "[21, 42, 63, 84]\n",
      "\n",
      "[22, 44, 66, 88]\n",
      "\n",
      "[23, 46, 69, 92]\n",
      "\n",
      "[24, 48, 72, 96]\n",
      "\n",
      "[25, 50, 75, 100]\n",
      "\n",
      "[26, 52, 78]\n",
      "\n",
      "[27, 54, 81]\n",
      "\n",
      "[28, 56, 84]\n",
      "\n",
      "[29, 58, 87]\n",
      "\n",
      "[30, 60, 90]\n",
      "\n",
      "[31, 62, 93]\n",
      "\n",
      "[32, 64, 96]\n",
      "\n",
      "[33, 66, 99]\n",
      "\n",
      "[34, 68]\n",
      "\n",
      "[35, 70]\n",
      "\n",
      "[36, 72]\n",
      "\n",
      "[37, 74]\n",
      "\n",
      "[38, 76]\n",
      "\n",
      "[39, 78]\n",
      "\n",
      "[40, 80]\n",
      "\n",
      "[41, 82]\n",
      "\n",
      "[42, 84]\n",
      "\n",
      "[43, 86]\n",
      "\n",
      "[44, 88]\n",
      "\n",
      "[45, 90]\n",
      "\n",
      "[46, 92]\n",
      "\n",
      "[47, 94]\n",
      "\n",
      "[48, 96]\n",
      "\n",
      "[49, 98]\n",
      "\n",
      "[50, 100]\n",
      "\n",
      "[51]\n",
      "\n",
      "[52]\n",
      "\n",
      "[53]\n",
      "\n",
      "[54]\n",
      "\n",
      "[55]\n",
      "\n",
      "[56]\n",
      "\n",
      "[57]\n",
      "\n",
      "[58]\n",
      "\n",
      "[59]\n",
      "\n",
      "[60]\n",
      "\n",
      "[61]\n",
      "\n",
      "[62]\n",
      "\n",
      "[63]\n",
      "\n",
      "[64]\n",
      "\n",
      "[65]\n",
      "\n",
      "[66]\n",
      "\n",
      "[67]\n",
      "\n",
      "[68]\n",
      "\n",
      "[69]\n",
      "\n",
      "[70]\n",
      "\n",
      "[71]\n",
      "\n",
      "[72]\n",
      "\n",
      "[73]\n",
      "\n",
      "[74]\n",
      "\n",
      "[75]\n",
      "\n",
      "[76]\n",
      "\n",
      "[77]\n",
      "\n",
      "[78]\n",
      "\n",
      "[79]\n",
      "\n",
      "[80]\n",
      "\n",
      "[81]\n",
      "\n",
      "[82]\n",
      "\n",
      "[83]\n",
      "\n",
      "[84]\n",
      "\n",
      "[85]\n",
      "\n",
      "[86]\n",
      "\n",
      "[87]\n",
      "\n",
      "[88]\n",
      "\n",
      "[89]\n",
      "\n",
      "[90]\n",
      "\n",
      "[91]\n",
      "\n",
      "[92]\n",
      "\n",
      "[93]\n",
      "\n",
      "[94]\n",
      "\n",
      "[95]\n",
      "\n",
      "[96]\n",
      "\n",
      "[97]\n",
      "\n",
      "[98]\n",
      "\n",
      "[99]\n",
      "\n",
      "[100]\n",
      "\n"
     ]
    }
   ],
   "source": [
    "for i in baskets2 : \n",
    "    print(i)\n",
    "    print()"
   ]
  },
  {
   "cell_type": "markdown",
   "metadata": {},
   "source": [
    "# 1.빈발 항목은 무엇인가?"
   ]
  },
  {
   "cell_type": "code",
   "execution_count": 4,
   "metadata": {},
   "outputs": [],
   "source": [
    "dic={}\n",
    "\n",
    "from itertools import combinations\n",
    "a = [1, 2, 3, 4, 5, 6, 7, 8, 9, 10, 11, 12, 13, 14, 15, 16, 17, 18, 19, 20, 21, 22, 23, 24, 25, 26, 27, 28, 29, 30, 31, 32, 33, 34, 35, 36, 37, 38, 39, 40, 41, 42, 43, 44, 45, 46, 47, 48, 49, 50, 51, 52, 53, 54, 55, 56, 57, 58, 59, 60, 61, 62, 63, 64, 65, 66, 67, 68, 69, 70, 71, 72, 73, 74, 75, 76, 77, 78, 79, 80, 81, 82, 83, 84, 85, 86, 87, 88, 89, 90, 91, 92, 93, 94, 95, 96, 97, 98, 99,100]\n",
    "combi = combinations(a,1)\n",
    "\n",
    "for c in combi : \n",
    "    i = 0\n",
    "    for b in baskets2 : \n",
    "        if(c[0] in b) :\n",
    "            i+=1\n",
    "    dic[str(c[0])] = i\n"
   ]
  },
  {
   "cell_type": "code",
   "execution_count": 5,
   "metadata": {},
   "outputs": [
    {
     "name": "stdout",
     "output_type": "stream",
     "text": [
      "key = 12, value=6\n",
      "key = 16, value=5\n",
      "key = 18, value=6\n",
      "key = 20, value=6\n",
      "key = 24, value=8\n",
      "key = 28, value=6\n",
      "key = 30, value=8\n",
      "key = 32, value=6\n",
      "key = 36, value=9\n",
      "key = 40, value=8\n",
      "key = 42, value=8\n",
      "key = 44, value=6\n",
      "key = 45, value=6\n",
      "key = 48, value=10\n",
      "key = 50, value=6\n",
      "key = 52, value=6\n",
      "key = 54, value=8\n",
      "key = 56, value=8\n",
      "key = 60, value=12\n",
      "key = 63, value=6\n",
      "key = 64, value=7\n",
      "key = 66, value=8\n",
      "key = 68, value=6\n",
      "key = 70, value=8\n",
      "key = 72, value=12\n",
      "key = 75, value=6\n",
      "key = 76, value=6\n",
      "key = 78, value=8\n",
      "key = 80, value=10\n",
      "key = 81, value=5\n",
      "key = 84, value=12\n",
      "key = 88, value=8\n",
      "key = 90, value=12\n",
      "key = 92, value=6\n",
      "key = 96, value=12\n",
      "key = 98, value=6\n",
      "key = 99, value=6\n",
      "key = 100, value=9\n"
     ]
    }
   ],
   "source": [
    "for key, val in dic.items():\n",
    "    if(val>=5):\n",
    "        print(\"key = {key}, value={value}\".format(key=key,value=val))"
   ]
  },
  {
   "cell_type": "markdown",
   "metadata": {},
   "source": [
    "# 2. 빈발 항목쌍은 무엇인가(지지도의 임계치는 5)"
   ]
  },
  {
   "cell_type": "code",
   "execution_count": 6,
   "metadata": {},
   "outputs": [],
   "source": [
    "dic={}"
   ]
  },
  {
   "cell_type": "code",
   "execution_count": 7,
   "metadata": {},
   "outputs": [],
   "source": [
    "from itertools import combinations\n",
    "a = [1, 2, 3, 4, 5, 6, 7, 8, 9, 10, 11, 12, 13, 14, 15, 16, 17, 18, 19, 20, 21, 22, 23, 24, 25, 26, 27, 28, 29, 30, 31, 32, 33, 34, 35, 36, 37, 38, 39, 40, 41, 42, 43, 44, 45, 46, 47, 48, 49, 50, 51, 52, 53, 54, 55, 56, 57, 58, 59, 60, 61, 62, 63, 64, 65, 66, 67, 68, 69, 70, 71, 72, 73, 74, 75, 76, 77, 78, 79, 80, 81, 82, 83, 84, 85, 86, 87, 88, 89, 90, 91, 92, 93, 94, 95, 96, 97, 98, 99,100]\n",
    "combi = combinations(a,2)\n",
    "\n",
    "for c in combi : \n",
    "    i = 0\n",
    "    for b in baskets2 : \n",
    "        if(c[0] in b and c[1] in b) :\n",
    "            i+=1\n",
    "    dic[str(c[0])+','+str(c[1])] = i\n"
   ]
  },
  {
   "cell_type": "code",
   "execution_count": 8,
   "metadata": {},
   "outputs": [
    {
     "name": "stdout",
     "output_type": "stream",
     "text": [
      "key = 12,24, value=6\n",
      "key = 12,36, value=6\n",
      "key = 12,48, value=6\n",
      "key = 12,60, value=6\n",
      "key = 12,72, value=6\n",
      "key = 12,84, value=6\n",
      "key = 12,96, value=6\n",
      "key = 16,32, value=5\n",
      "key = 16,48, value=5\n",
      "key = 16,64, value=5\n",
      "key = 16,80, value=5\n",
      "key = 16,96, value=5\n",
      "key = 18,36, value=6\n",
      "key = 18,54, value=6\n",
      "key = 18,72, value=6\n",
      "key = 18,90, value=6\n",
      "key = 20,40, value=6\n",
      "key = 20,60, value=6\n",
      "key = 20,80, value=6\n",
      "key = 20,100, value=6\n",
      "key = 24,36, value=6\n",
      "key = 24,48, value=8\n",
      "key = 24,60, value=6\n",
      "key = 24,72, value=8\n",
      "key = 24,84, value=6\n",
      "key = 24,96, value=8\n",
      "key = 28,56, value=6\n",
      "key = 28,84, value=6\n",
      "key = 30,60, value=8\n",
      "key = 30,90, value=8\n",
      "key = 32,48, value=5\n",
      "key = 32,64, value=6\n",
      "key = 32,80, value=5\n",
      "key = 32,96, value=6\n",
      "key = 36,48, value=6\n",
      "key = 36,54, value=6\n",
      "key = 36,60, value=6\n",
      "key = 36,72, value=9\n",
      "key = 36,84, value=6\n",
      "key = 36,90, value=6\n",
      "key = 36,96, value=6\n",
      "key = 40,60, value=6\n",
      "key = 40,80, value=8\n",
      "key = 40,100, value=6\n",
      "key = 42,84, value=8\n",
      "key = 44,88, value=6\n",
      "key = 45,90, value=6\n",
      "key = 48,60, value=6\n",
      "key = 48,64, value=5\n",
      "key = 48,72, value=8\n",
      "key = 48,80, value=5\n",
      "key = 48,84, value=6\n",
      "key = 48,96, value=10\n",
      "key = 50,100, value=6\n",
      "key = 54,72, value=6\n",
      "key = 54,90, value=6\n",
      "key = 56,84, value=6\n",
      "key = 60,72, value=6\n",
      "key = 60,80, value=6\n",
      "key = 60,84, value=6\n",
      "key = 60,90, value=8\n",
      "key = 60,96, value=6\n",
      "key = 60,100, value=6\n",
      "key = 64,80, value=5\n",
      "key = 64,96, value=6\n",
      "key = 72,84, value=6\n",
      "key = 72,90, value=6\n",
      "key = 72,96, value=8\n",
      "key = 80,96, value=5\n",
      "key = 80,100, value=6\n",
      "key = 84,96, value=6\n"
     ]
    }
   ],
   "source": [
    "for key, val in dic.items():\n",
    "    if(val>=5):\n",
    "        print(\"key = {key}, value={value}\".format(key=key,value=val))"
   ]
  },
  {
   "cell_type": "markdown",
   "metadata": {},
   "source": [
    "# 3. 모든 바구니 크기의 합은 무엇인가?"
   ]
  },
  {
   "cell_type": "code",
   "execution_count": 9,
   "metadata": {},
   "outputs": [
    {
     "name": "stdout",
     "output_type": "stream",
     "text": [
      "482\n"
     ]
    }
   ],
   "source": [
    "sum = 0 \n",
    "for i in baskets2 :\n",
    "    sum += len(i)\n",
    "    \n",
    "print(sum)"
   ]
  },
  {
   "cell_type": "code",
   "execution_count": 11,
   "metadata": {},
   "outputs": [
    {
     "data": {
      "text/plain": [
       "6"
      ]
     },
     "execution_count": 11,
     "metadata": {},
     "output_type": "execute_result"
    }
   ],
   "source": [
    "dic['24,60']"
   ]
  },
  {
   "cell_type": "code",
   "execution_count": 12,
   "metadata": {},
   "outputs": [],
   "source": [
    "dic3 = {}\n",
    "c = [24,60,8]\n",
    "i = 0\n",
    "for b in baskets2 : \n",
    "    if(c[0] in b and c[1] in b and c[2] in b) :\n",
    "        i+=1\n",
    "dic3[str(c[0])+','+str(c[1]) + ',' + str(c[2])] = i"
   ]
  },
  {
   "cell_type": "code",
   "execution_count": 13,
   "metadata": {},
   "outputs": [
    {
     "data": {
      "text/plain": [
       "3"
      ]
     },
     "execution_count": 13,
     "metadata": {},
     "output_type": "execute_result"
    }
   ],
   "source": [
    "dic3['24,60,8']"
   ]
  },
  {
   "cell_type": "code",
   "execution_count": null,
   "metadata": {},
   "outputs": [],
   "source": []
  },
  {
   "cell_type": "code",
   "execution_count": 14,
   "metadata": {},
   "outputs": [],
   "source": [
    "c = [2,3,4]\n",
    "i = 0\n",
    "for b in baskets2 : \n",
    "    if(c[0] in b and c[1] in b and c[2] in b) :\n",
    "        i+=1\n",
    "dic3[str(c[0])+','+str(c[1]) + ',' + str(c[2])] = i"
   ]
  },
  {
   "cell_type": "code",
   "execution_count": 15,
   "metadata": {},
   "outputs": [
    {
     "data": {
      "text/plain": [
       "{'24,60,8': 3, '2,3,4': 1}"
      ]
     },
     "execution_count": 15,
     "metadata": {},
     "output_type": "execute_result"
    }
   ],
   "source": [
    "dic3"
   ]
  },
  {
   "cell_type": "code",
   "execution_count": 16,
   "metadata": {},
   "outputs": [],
   "source": [
    "dic4 = {}\n",
    "c = [2,3,4,5]\n",
    "i = 0\n",
    "for b in baskets2 : \n",
    "    if(c[0] in b and c[1] in b and c[2] in b and c[3] in b) :\n",
    "        i+=1\n",
    "dic4[str(c[0])+','+str(c[1]) + ',' + str(c[2]) + ',' + str(c[3])] = i"
   ]
  },
  {
   "cell_type": "code",
   "execution_count": 17,
   "metadata": {},
   "outputs": [
    {
     "data": {
      "text/plain": [
       "{'2,3,4,5': 1}"
      ]
     },
     "execution_count": 17,
     "metadata": {},
     "output_type": "execute_result"
    }
   ],
   "source": [
    "dic4"
   ]
  },
  {
   "cell_type": "code",
   "execution_count": null,
   "metadata": {},
   "outputs": [],
   "source": []
  }
 ],
 "metadata": {
  "kernelspec": {
   "display_name": "Python 3",
   "language": "python",
   "name": "python3"
  },
  "language_info": {
   "codemirror_mode": {
    "name": "ipython",
    "version": 3
   },
   "file_extension": ".py",
   "mimetype": "text/x-python",
   "name": "python",
   "nbconvert_exporter": "python",
   "pygments_lexer": "ipython3",
   "version": "3.7.4"
  }
 },
 "nbformat": 4,
 "nbformat_minor": 2
}
